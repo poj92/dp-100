{
 "cells": [
  {
   "cell_type": "code",
   "metadata": {
    "ExecuteTime": {
     "end_time": "2025-06-23T09:54:09.253662Z",
     "start_time": "2025-06-23T09:54:09.251210Z"
    }
   },
   "source": [
    "# This is my Jupyter notebook for Azure Data Scientist course\n",
    "\n",
    "# To install azure Python SDK\n",
    "# pip install azure-ai-ml\n"
   ],
   "outputs": [],
   "execution_count": 4
  },
  {
   "cell_type": "code",
   "execution_count": 4,
   "metadata": {},
   "outputs": [
    {
     "name": "stderr",
     "output_type": "stream",
     "text": [
      "Overriding of current TracerProvider is not allowed\n",
      "Overriding of current LoggerProvider is not allowed\n",
      "Overriding of current MeterProvider is not allowed\n",
      "Attempting to instrument while already instrumented\n",
      "Attempting to instrument while already instrumented\n",
      "Attempting to instrument while already instrumented\n",
      "Attempting to instrument while already instrumented\n"
     ]
    }
   ],
   "source": [
    "# connect to the workspace\n",
    "import MLClient\n",
    "# Define parameters\n",
    "subscription_id = '1c8b603c-35c2-411e-b37f-c4175769d138'\n",
    "resource_grp = 'rg-dp100-labs'\n",
    "workspace_name = 'mlw-dp100-labs'\n",
    "\n",
    "\n",
    "\n",
    "\n",
    "\n",
    "ml_client = MLClient(\n",
    "    DefaultAzureCredential(), subscription_id, resource_grp, workspace_name\n",
    ")\n",
    "\n",
    "\n"
   ]
  },
  {
   "cell_type": "markdown",
   "metadata": {},
   "source": [
    "## Create a Datastore\n"
   ]
  },
  {
   "cell_type": "code",
   "execution_count": null,
   "metadata": {},
   "outputs": [],
   "source": [
    "#blob_datastore = AzureBlobDatastore(\n",
    "    \t\t\tname = \"blob_example\",\n",
    "    \t\t\tdescription = \"Datastore pointing to a blob container\",\n",
    "    \t\t\taccount_name = \"mytestblobstore\",\n",
    "    \t\t\tcontainer_name = \"data-container\",\n",
    "    \t\t\tcredentials = AccountKeyConfiguration(\n",
    "        \t\t\taccount_key=\"XXXxxxXXXxXXXXxxXXX\"\n",
    "    \t\t\t),\n",
    ")\n",
    "ml_client.create_or_update(blob_datastore)\n",
    "\n",
    "# OR\n",
    "blob_datastore = AzureBlobDatastore(\n",
    "name=\"blob_sas_example\",\n",
    "description=\"Datastore pointing to a blob container\",\n",
    "account_name=\"mytestblobstore\",\n",
    "container_name=\"data-container\",\n",
    "credentials=SasTokenConfiguration(\n",
    "sas_token=\"sv=2024-11-04&ss=bfqt&srt=sco&sp=rwdlacupiytfx&se=2025-06-04T02:46:32Z&st=2025-05-27T18:46:32Z&spr=https&sig=xjcjQF6t%2FZYGyi9wVztNcebBMc1pp7TDis1QNGcwRn4%3D\"\n",
    "),\n",
    ")\n",
    "ml_client.create_or_update(blob_datastore)"
   ]
  },
  {
   "cell_type": "code",
   "execution_count": 6,
   "metadata": {},
   "outputs": [
    {
     "ename": "NameError",
     "evalue": "name 'AzureBlobDatastore' is not defined",
     "output_type": "error",
     "traceback": [
      "\u001B[0;31m---------------------------------------------------------------------------\u001B[0m",
      "\u001B[0;31mNameError\u001B[0m                                 Traceback (most recent call last)",
      "Cell \u001B[0;32mIn[6], line 1\u001B[0m\n\u001B[0;32m----> 1\u001B[0m blob_datastore \u001B[38;5;241m=\u001B[39m AzureBlobDatastore(\n\u001B[1;32m      2\u001B[0m name\u001B[38;5;241m=\u001B[39m\u001B[38;5;124m\"\u001B[39m\u001B[38;5;124mblob_sas_example\u001B[39m\u001B[38;5;124m\"\u001B[39m,\n\u001B[1;32m      3\u001B[0m description\u001B[38;5;241m=\u001B[39m\u001B[38;5;124m\"\u001B[39m\u001B[38;5;124mDatastore pointing to a blob container\u001B[39m\u001B[38;5;124m\"\u001B[39m,\n\u001B[1;32m      4\u001B[0m account_name\u001B[38;5;241m=\u001B[39m\u001B[38;5;124m\"\u001B[39m\u001B[38;5;124mmytestblobstore\u001B[39m\u001B[38;5;124m\"\u001B[39m,\n\u001B[1;32m      5\u001B[0m container_name\u001B[38;5;241m=\u001B[39m\u001B[38;5;124m\"\u001B[39m\u001B[38;5;124mdata-container\u001B[39m\u001B[38;5;124m\"\u001B[39m,\n\u001B[1;32m      6\u001B[0m credentials\u001B[38;5;241m=\u001B[39mSasTokenConfiguration(\n\u001B[1;32m      7\u001B[0m sas_token\u001B[38;5;241m=\u001B[39m\u001B[38;5;124m\"\u001B[39m\u001B[38;5;124msv=2024-11-04&ss=bfqt&srt=sco&sp=rwdlacupiytfx&se=2025-06-04T02:46:32Z&st=2025-05-27T18:46:32Z&spr=https&sig=xjcjQF6t\u001B[39m\u001B[38;5;132;01m%2F\u001B[39;00m\u001B[38;5;124mZYGyi9wVztNcebBMc1pp7TDis1QNGcwRn4\u001B[39m\u001B[38;5;124m%\u001B[39m\u001B[38;5;124m3D\u001B[39m\u001B[38;5;124m\"\u001B[39m\n\u001B[1;32m      8\u001B[0m ),\n\u001B[1;32m      9\u001B[0m )\n\u001B[1;32m     10\u001B[0m ml_client\u001B[38;5;241m.\u001B[39mcreate_or_update(blob_datastore)\n",
      "\u001B[0;31mNameError\u001B[0m: name 'AzureBlobDatastore' is not defined"
     ]
    }
   ],
   "source": [
    "blob_datastore = AzureBlobDatastore(\n",
    "name=\"blob_sas_example\",\n",
    "description=\"Datastore pointing to a blob container\",\n",
    "account_name=\"mytestblobstore\",\n",
    "container_name=\"data-container\",\n",
    "credentials=SasTokenConfiguration(\n",
    "sas_token=\"sv=2024-11-04&ss=bfqt&srt=sco&sp=rwdlacupiytfx&se=2025-06-04T02:46:32Z&st=2025-05-27T18:46:32Z&spr=https&sig=xjcjQF6t%2FZYGyi9wVztNcebBMc1pp7TDis1QNGcwRn4%3D\"\n",
    "),\n",
    ")\n",
    "ml_client.create_or_update(blob_datastore)"
   ]
  },
  {
   "cell_type": "code",
   "execution_count": null,
   "metadata": {},
   "outputs": [],
   "source": []
  }
 ],
 "metadata": {
  "kernelspec": {
   "display_name": "base",
   "language": "python",
   "name": "python3"
  },
  "language_info": {
   "codemirror_mode": {
    "name": "ipython",
    "version": 3
   },
   "file_extension": ".py",
   "mimetype": "text/x-python",
   "name": "python",
   "nbconvert_exporter": "python",
   "pygments_lexer": "ipython3",
   "version": "3.11.7"
  }
 },
 "nbformat": 4,
 "nbformat_minor": 2
}
